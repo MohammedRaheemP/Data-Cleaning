{
 "cells": [
  {
   "cell_type": "markdown",
   "metadata": {
    "colab_type": "text",
    "id": "T06JNPCXW-K9"
   },
   "source": [
    "# Child Data Cleaning"
   ]
  },
  {
   "cell_type": "code",
   "execution_count": 0,
   "metadata": {
    "colab": {},
    "colab_type": "code",
    "id": "v0rpXdqrW-LD",
    "outputId": "68301006-a197-49c2-b0d5-1e6c894cd12d"
   },
   "outputs": [
    {
     "data": {
      "text/html": [
       "<div>\n",
       "<style scoped>\n",
       "    .dataframe tbody tr th:only-of-type {\n",
       "        vertical-align: middle;\n",
       "    }\n",
       "\n",
       "    .dataframe tbody tr th {\n",
       "        vertical-align: top;\n",
       "    }\n",
       "\n",
       "    .dataframe thead th {\n",
       "        text-align: right;\n",
       "    }\n",
       "</style>\n",
       "<table border=\"1\" class=\"dataframe\">\n",
       "  <thead>\n",
       "    <tr style=\"text-align: right;\">\n",
       "      <th></th>\n",
       "      <th>Unnamed: 0</th>\n",
       "      <th>name</th>\n",
       "      <th>Birth Month</th>\n",
       "      <th>Birth Year</th>\n",
       "      <th>Day</th>\n",
       "      <th>Height</th>\n",
       "      <th>Remarks</th>\n",
       "    </tr>\n",
       "  </thead>\n",
       "  <tbody>\n",
       "    <tr>\n",
       "      <th>0</th>\n",
       "      <td>1</td>\n",
       "      <td>David</td>\n",
       "      <td>5</td>\n",
       "      <td>88</td>\n",
       "      <td>1st Monday</td>\n",
       "      <td>2'0''</td>\n",
       "      <td>Boy  with Left biggerfoot and Right dominant hand</td>\n",
       "    </tr>\n",
       "    <tr>\n",
       "      <th>1</th>\n",
       "      <td>2</td>\n",
       "      <td>Lars</td>\n",
       "      <td>10</td>\n",
       "      <td>87</td>\n",
       "      <td>3rd Tuesday</td>\n",
       "      <td>2'1''</td>\n",
       "      <td>Boy  with Left biggerfoot and Left dominant hand</td>\n",
       "    </tr>\n",
       "    <tr>\n",
       "      <th>2</th>\n",
       "      <td>3</td>\n",
       "      <td>Zach</td>\n",
       "      <td>12</td>\n",
       "      <td>87</td>\n",
       "      <td>2nd Saturday</td>\n",
       "      <td>2'0''</td>\n",
       "      <td>Boy  with Right biggerfoot and Right dominant ...</td>\n",
       "    </tr>\n",
       "    <tr>\n",
       "      <th>3</th>\n",
       "      <td>4</td>\n",
       "      <td>Josh</td>\n",
       "      <td>1</td>\n",
       "      <td>88</td>\n",
       "      <td>1st Tuesday</td>\n",
       "      <td>2'1''</td>\n",
       "      <td>Boy  with Left biggerfoot and Right dominant hand</td>\n",
       "    </tr>\n",
       "    <tr>\n",
       "      <th>4</th>\n",
       "      <td>5</td>\n",
       "      <td>Lang</td>\n",
       "      <td>2</td>\n",
       "      <td>88</td>\n",
       "      <td>1st Monday</td>\n",
       "      <td>2'1''</td>\n",
       "      <td>Boy  with Left biggerfoot and Right dominant hand</td>\n",
       "    </tr>\n",
       "  </tbody>\n",
       "</table>\n",
       "</div>"
      ],
      "text/plain": [
       "   Unnamed: 0   name  Birth Month  Birth Year           Day Height  \\\n",
       "0           1  David            5          88    1st Monday  2'0''   \n",
       "1           2   Lars           10          87   3rd Tuesday  2'1''   \n",
       "2           3   Zach           12          87  2nd Saturday  2'0''   \n",
       "3           4   Josh            1          88   1st Tuesday  2'1''   \n",
       "4           5   Lang            2          88    1st Monday  2'1''   \n",
       "\n",
       "                                             Remarks  \n",
       "0  Boy  with Left biggerfoot and Right dominant hand  \n",
       "1   Boy  with Left biggerfoot and Left dominant hand  \n",
       "2  Boy  with Right biggerfoot and Right dominant ...  \n",
       "3  Boy  with Left biggerfoot and Right dominant hand  \n",
       "4  Boy  with Left biggerfoot and Right dominant hand  "
      ]
     },
     "execution_count": 2,
     "metadata": {
      "tags": []
     },
     "output_type": "execute_result"
    }
   ],
   "source": [
    "import pandas as pd\n",
    "data = pd.read_csv(\"Child_data.csv\")\n",
    "data.head()"
   ]
  },
  {
   "cell_type": "code",
   "execution_count": 0,
   "metadata": {
    "colab": {},
    "colab_type": "code",
    "id": "YkMbBg4EW-LG",
    "outputId": "dd005ac6-c8be-4219-8bd8-8a049bc1cd50"
   },
   "outputs": [
    {
     "data": {
      "text/plain": [
       "(39, 7)"
      ]
     },
     "execution_count": 3,
     "metadata": {
      "tags": []
     },
     "output_type": "execute_result"
    }
   ],
   "source": [
    "data.shape"
   ]
  },
  {
   "cell_type": "code",
   "execution_count": 0,
   "metadata": {
    "colab": {},
    "colab_type": "code",
    "id": "Fqy7SdXIW-LI",
    "outputId": "00f8e658-179c-4e18-e2fe-53ae4a85cdbe"
   },
   "outputs": [
    {
     "data": {
      "text/html": [
       "<div>\n",
       "<style scoped>\n",
       "    .dataframe tbody tr th:only-of-type {\n",
       "        vertical-align: middle;\n",
       "    }\n",
       "\n",
       "    .dataframe tbody tr th {\n",
       "        vertical-align: top;\n",
       "    }\n",
       "\n",
       "    .dataframe thead th {\n",
       "        text-align: right;\n",
       "    }\n",
       "</style>\n",
       "<table border=\"1\" class=\"dataframe\">\n",
       "  <thead>\n",
       "    <tr style=\"text-align: right;\">\n",
       "      <th></th>\n",
       "      <th>index</th>\n",
       "      <th>Name</th>\n",
       "      <th>Birth_Month</th>\n",
       "      <th>Birth_Year</th>\n",
       "      <th>weekday</th>\n",
       "      <th>Height</th>\n",
       "      <th>Remarks</th>\n",
       "    </tr>\n",
       "  </thead>\n",
       "  <tbody>\n",
       "    <tr>\n",
       "      <th>0</th>\n",
       "      <td>1</td>\n",
       "      <td>David</td>\n",
       "      <td>5</td>\n",
       "      <td>88</td>\n",
       "      <td>1st Monday</td>\n",
       "      <td>2'0''</td>\n",
       "      <td>Boy  with Left biggerfoot and Right dominant hand</td>\n",
       "    </tr>\n",
       "    <tr>\n",
       "      <th>1</th>\n",
       "      <td>2</td>\n",
       "      <td>Lars</td>\n",
       "      <td>10</td>\n",
       "      <td>87</td>\n",
       "      <td>3rd Tuesday</td>\n",
       "      <td>2'1''</td>\n",
       "      <td>Boy  with Left biggerfoot and Left dominant hand</td>\n",
       "    </tr>\n",
       "    <tr>\n",
       "      <th>2</th>\n",
       "      <td>3</td>\n",
       "      <td>Zach</td>\n",
       "      <td>12</td>\n",
       "      <td>87</td>\n",
       "      <td>2nd Saturday</td>\n",
       "      <td>2'0''</td>\n",
       "      <td>Boy  with Right biggerfoot and Right dominant ...</td>\n",
       "    </tr>\n",
       "    <tr>\n",
       "      <th>3</th>\n",
       "      <td>4</td>\n",
       "      <td>Josh</td>\n",
       "      <td>1</td>\n",
       "      <td>88</td>\n",
       "      <td>1st Tuesday</td>\n",
       "      <td>2'1''</td>\n",
       "      <td>Boy  with Left biggerfoot and Right dominant hand</td>\n",
       "    </tr>\n",
       "    <tr>\n",
       "      <th>4</th>\n",
       "      <td>5</td>\n",
       "      <td>Lang</td>\n",
       "      <td>2</td>\n",
       "      <td>88</td>\n",
       "      <td>1st Monday</td>\n",
       "      <td>2'1''</td>\n",
       "      <td>Boy  with Left biggerfoot and Right dominant hand</td>\n",
       "    </tr>\n",
       "  </tbody>\n",
       "</table>\n",
       "</div>"
      ],
      "text/plain": [
       "   index   Name  Birth_Month  Birth_Year       weekday Height  \\\n",
       "0      1  David            5          88    1st Monday  2'0''   \n",
       "1      2   Lars           10          87   3rd Tuesday  2'1''   \n",
       "2      3   Zach           12          87  2nd Saturday  2'0''   \n",
       "3      4   Josh            1          88   1st Tuesday  2'1''   \n",
       "4      5   Lang            2          88    1st Monday  2'1''   \n",
       "\n",
       "                                             Remarks  \n",
       "0  Boy  with Left biggerfoot and Right dominant hand  \n",
       "1   Boy  with Left biggerfoot and Left dominant hand  \n",
       "2  Boy  with Right biggerfoot and Right dominant ...  \n",
       "3  Boy  with Left biggerfoot and Right dominant hand  \n",
       "4  Boy  with Left biggerfoot and Right dominant hand  "
      ]
     },
     "execution_count": 4,
     "metadata": {
      "tags": []
     },
     "output_type": "execute_result"
    }
   ],
   "source": [
    "data = data.rename(columns={'Unnamed: 0':'index','name':'Name','Birth Month':'Birth_Month','Birth Year':'Birth_Year', 'Day':'weekday'})\n",
    "data.head()"
   ]
  },
  {
   "cell_type": "code",
   "execution_count": 0,
   "metadata": {
    "colab": {},
    "colab_type": "code",
    "id": "cvzzOxYQW-LK",
    "outputId": "6f550ac5-8ead-4f9d-c4bc-1e727edc0656"
   },
   "outputs": [
    {
     "data": {
      "text/plain": [
       "index          0\n",
       "Name           0\n",
       "Birth_Month    0\n",
       "Birth_Year     0\n",
       "weekday        0\n",
       "Height         0\n",
       "Remarks        0\n",
       "dtype: int64"
      ]
     },
     "execution_count": 5,
     "metadata": {
      "tags": []
     },
     "output_type": "execute_result"
    }
   ],
   "source": [
    "data.isnull().sum()"
   ]
  },
  {
   "cell_type": "code",
   "execution_count": 0,
   "metadata": {
    "colab": {},
    "colab_type": "code",
    "id": "qo-Z7A_uW-LM",
    "outputId": "c7b82153-6384-4100-c1af-084835382d64"
   },
   "outputs": [
    {
     "name": "stdout",
     "output_type": "stream",
     "text": [
      "<class 'pandas.core.frame.DataFrame'>\n",
      "RangeIndex: 39 entries, 0 to 38\n",
      "Data columns (total 7 columns):\n",
      "index          39 non-null int64\n",
      "Name           39 non-null object\n",
      "Birth_Month    39 non-null int64\n",
      "Birth_Year     39 non-null int64\n",
      "weekday        39 non-null object\n",
      "Height         39 non-null object\n",
      "Remarks        39 non-null object\n",
      "dtypes: int64(3), object(4)\n",
      "memory usage: 2.2+ KB\n"
     ]
    }
   ],
   "source": [
    "data.info()"
   ]
  },
  {
   "cell_type": "code",
   "execution_count": 0,
   "metadata": {
    "colab": {},
    "colab_type": "code",
    "id": "f_uQkaAIW-LO"
   },
   "outputs": [],
   "source": [
    "import calendar\n",
    "from datetime import datetime\n",
    "\n",
    "def getDate(mystr,mymonth,myyear):\n",
    "    myweek=mystr[0]\n",
    "    myday=mystr[4:]\n",
    "    myday=myday.upper()\n",
    "    cal = calendar.monthcalendar(myyear, mymonth)\n",
    "    week1 = cal[int(myweek)-1]\n",
    "    #print(getattr(calendar,myday))\n",
    "    if week1[getattr(calendar,myday)] != 0:\n",
    "        auditday = week1[getattr(calendar,myday)]\n",
    "    else:\n",
    "        # if the first MONDAY isn't in the first week, it must be in the second week\n",
    "        week2 = cal[int(myweek)]\n",
    "        auditday = week2[getattr(calendar,myday)]\n",
    "    result = str(auditday)+\"-\"+str(mymonth)+\"-\"+str(myyear)\n",
    "    date_object = datetime.strptime(result, '%d-%m-%Y')\n",
    "    return date_object"
   ]
  },
  {
   "cell_type": "code",
   "execution_count": 0,
   "metadata": {
    "colab": {},
    "colab_type": "code",
    "id": "B4uZXjc0W-LR",
    "outputId": "a06ac127-d04d-410f-f198-6c1651aaed1a"
   },
   "outputs": [
    {
     "data": {
      "text/html": [
       "<div>\n",
       "<style scoped>\n",
       "    .dataframe tbody tr th:only-of-type {\n",
       "        vertical-align: middle;\n",
       "    }\n",
       "\n",
       "    .dataframe tbody tr th {\n",
       "        vertical-align: top;\n",
       "    }\n",
       "\n",
       "    .dataframe thead th {\n",
       "        text-align: right;\n",
       "    }\n",
       "</style>\n",
       "<table border=\"1\" class=\"dataframe\">\n",
       "  <thead>\n",
       "    <tr style=\"text-align: right;\">\n",
       "      <th></th>\n",
       "      <th>index</th>\n",
       "      <th>Name</th>\n",
       "      <th>Birth_Month</th>\n",
       "      <th>Birth_Year</th>\n",
       "      <th>weekday</th>\n",
       "      <th>Height</th>\n",
       "      <th>Remarks</th>\n",
       "      <th>DOB</th>\n",
       "      <th>Gender</th>\n",
       "      <th>Height_in_cm</th>\n",
       "      <th>Bigger_Foot</th>\n",
       "      <th>Dominant_Hand</th>\n",
       "    </tr>\n",
       "  </thead>\n",
       "  <tbody>\n",
       "    <tr>\n",
       "      <th>0</th>\n",
       "      <td>1</td>\n",
       "      <td>David</td>\n",
       "      <td>5</td>\n",
       "      <td>88</td>\n",
       "      <td>1st Monday</td>\n",
       "      <td>2'0''</td>\n",
       "      <td>Boy  with Left biggerfoot and Right dominant hand</td>\n",
       "      <td>1988-05-02</td>\n",
       "      <td>Boy</td>\n",
       "      <td>60.96</td>\n",
       "      <td>Left</td>\n",
       "      <td>Right</td>\n",
       "    </tr>\n",
       "    <tr>\n",
       "      <th>1</th>\n",
       "      <td>2</td>\n",
       "      <td>Lars</td>\n",
       "      <td>10</td>\n",
       "      <td>87</td>\n",
       "      <td>3rd Tuesday</td>\n",
       "      <td>2'1''</td>\n",
       "      <td>Boy  with Left biggerfoot and Left dominant hand</td>\n",
       "      <td>1987-10-13</td>\n",
       "      <td>Boy</td>\n",
       "      <td>63.50</td>\n",
       "      <td>Left</td>\n",
       "      <td>Left</td>\n",
       "    </tr>\n",
       "    <tr>\n",
       "      <th>2</th>\n",
       "      <td>3</td>\n",
       "      <td>Zach</td>\n",
       "      <td>12</td>\n",
       "      <td>87</td>\n",
       "      <td>2nd Saturday</td>\n",
       "      <td>2'0''</td>\n",
       "      <td>Boy  with Right biggerfoot and Right dominant ...</td>\n",
       "      <td>1987-12-12</td>\n",
       "      <td>Boy</td>\n",
       "      <td>60.96</td>\n",
       "      <td>Right</td>\n",
       "      <td>Right</td>\n",
       "    </tr>\n",
       "    <tr>\n",
       "      <th>3</th>\n",
       "      <td>4</td>\n",
       "      <td>Josh</td>\n",
       "      <td>1</td>\n",
       "      <td>88</td>\n",
       "      <td>1st Tuesday</td>\n",
       "      <td>2'1''</td>\n",
       "      <td>Boy  with Left biggerfoot and Right dominant hand</td>\n",
       "      <td>1988-01-05</td>\n",
       "      <td>Boy</td>\n",
       "      <td>63.50</td>\n",
       "      <td>Left</td>\n",
       "      <td>Right</td>\n",
       "    </tr>\n",
       "    <tr>\n",
       "      <th>4</th>\n",
       "      <td>5</td>\n",
       "      <td>Lang</td>\n",
       "      <td>2</td>\n",
       "      <td>88</td>\n",
       "      <td>1st Monday</td>\n",
       "      <td>2'1''</td>\n",
       "      <td>Boy  with Left biggerfoot and Right dominant hand</td>\n",
       "      <td>1988-02-01</td>\n",
       "      <td>Boy</td>\n",
       "      <td>63.50</td>\n",
       "      <td>Left</td>\n",
       "      <td>Right</td>\n",
       "    </tr>\n",
       "  </tbody>\n",
       "</table>\n",
       "</div>"
      ],
      "text/plain": [
       "   index   Name  Birth_Month  Birth_Year       weekday Height  \\\n",
       "0      1  David            5          88    1st Monday  2'0''   \n",
       "1      2   Lars           10          87   3rd Tuesday  2'1''   \n",
       "2      3   Zach           12          87  2nd Saturday  2'0''   \n",
       "3      4   Josh            1          88   1st Tuesday  2'1''   \n",
       "4      5   Lang            2          88    1st Monday  2'1''   \n",
       "\n",
       "                                             Remarks        DOB Gender  \\\n",
       "0  Boy  with Left biggerfoot and Right dominant hand 1988-05-02    Boy   \n",
       "1   Boy  with Left biggerfoot and Left dominant hand 1987-10-13    Boy   \n",
       "2  Boy  with Right biggerfoot and Right dominant ... 1987-12-12    Boy   \n",
       "3  Boy  with Left biggerfoot and Right dominant hand 1988-01-05    Boy   \n",
       "4  Boy  with Left biggerfoot and Right dominant hand 1988-02-01    Boy   \n",
       "\n",
       "   Height_in_cm Bigger_Foot Dominant_Hand  \n",
       "0         60.96        Left         Right  \n",
       "1         63.50        Left          Left  \n",
       "2         60.96       Right         Right  \n",
       "3         63.50        Left         Right  \n",
       "4         63.50        Left         Right  "
      ]
     },
     "execution_count": 9,
     "metadata": {
      "tags": []
     },
     "output_type": "execute_result"
    }
   ],
   "source": [
    "for i,j in data.iterrows():\n",
    "    j.Birth_Year=1900+j.Birth_Year;\n",
    "    data.loc[i,'DOB'] = getDate(j.weekday,j.Birth_Month,j.Birth_Year)    \n",
    "    rem = j.Remarks.split();\n",
    "    data.loc[i,'Gender'] = rem[0]\n",
    "    ht = j.Height.split(\"'\")\n",
    "    data.loc[i,'Height_in_cm'] = float(ht[0])*30.48 + float(ht[1])*2.54\n",
    "    data.loc[i,'Bigger_Foot'] = rem[2]\n",
    "    data.loc[i,'Dominant_Hand'] = rem[5]\n",
    "\n",
    "data.head()"
   ]
  },
  {
   "cell_type": "code",
   "execution_count": 0,
   "metadata": {
    "colab": {},
    "colab_type": "code",
    "id": "s-0bdc0hW-LT",
    "outputId": "7ea764e3-bb4a-4a1c-dbb5-794a0c1009e5"
   },
   "outputs": [
    {
     "data": {
      "text/html": [
       "<div>\n",
       "<style scoped>\n",
       "    .dataframe tbody tr th:only-of-type {\n",
       "        vertical-align: middle;\n",
       "    }\n",
       "\n",
       "    .dataframe tbody tr th {\n",
       "        vertical-align: top;\n",
       "    }\n",
       "\n",
       "    .dataframe thead th {\n",
       "        text-align: right;\n",
       "    }\n",
       "</style>\n",
       "<table border=\"1\" class=\"dataframe\">\n",
       "  <thead>\n",
       "    <tr style=\"text-align: right;\">\n",
       "      <th></th>\n",
       "      <th>index</th>\n",
       "      <th>Name</th>\n",
       "      <th>DOB</th>\n",
       "      <th>Gender</th>\n",
       "      <th>Height_in_cm</th>\n",
       "      <th>Bigger_Foot</th>\n",
       "      <th>Dominant_Hand</th>\n",
       "    </tr>\n",
       "  </thead>\n",
       "  <tbody>\n",
       "    <tr>\n",
       "      <th>0</th>\n",
       "      <td>1</td>\n",
       "      <td>David</td>\n",
       "      <td>1988-05-02</td>\n",
       "      <td>Boy</td>\n",
       "      <td>60.96</td>\n",
       "      <td>Left</td>\n",
       "      <td>Right</td>\n",
       "    </tr>\n",
       "    <tr>\n",
       "      <th>1</th>\n",
       "      <td>2</td>\n",
       "      <td>Lars</td>\n",
       "      <td>1987-10-13</td>\n",
       "      <td>Boy</td>\n",
       "      <td>63.50</td>\n",
       "      <td>Left</td>\n",
       "      <td>Left</td>\n",
       "    </tr>\n",
       "    <tr>\n",
       "      <th>2</th>\n",
       "      <td>3</td>\n",
       "      <td>Zach</td>\n",
       "      <td>1987-12-12</td>\n",
       "      <td>Boy</td>\n",
       "      <td>60.96</td>\n",
       "      <td>Right</td>\n",
       "      <td>Right</td>\n",
       "    </tr>\n",
       "    <tr>\n",
       "      <th>3</th>\n",
       "      <td>4</td>\n",
       "      <td>Josh</td>\n",
       "      <td>1988-01-05</td>\n",
       "      <td>Boy</td>\n",
       "      <td>63.50</td>\n",
       "      <td>Left</td>\n",
       "      <td>Right</td>\n",
       "    </tr>\n",
       "    <tr>\n",
       "      <th>4</th>\n",
       "      <td>5</td>\n",
       "      <td>Lang</td>\n",
       "      <td>1988-02-01</td>\n",
       "      <td>Boy</td>\n",
       "      <td>63.50</td>\n",
       "      <td>Left</td>\n",
       "      <td>Right</td>\n",
       "    </tr>\n",
       "  </tbody>\n",
       "</table>\n",
       "</div>"
      ],
      "text/plain": [
       "   index   Name        DOB Gender  Height_in_cm Bigger_Foot Dominant_Hand\n",
       "0      1  David 1988-05-02    Boy         60.96        Left         Right\n",
       "1      2   Lars 1987-10-13    Boy         63.50        Left          Left\n",
       "2      3   Zach 1987-12-12    Boy         60.96       Right         Right\n",
       "3      4   Josh 1988-01-05    Boy         63.50        Left         Right\n",
       "4      5   Lang 1988-02-01    Boy         63.50        Left         Right"
      ]
     },
     "execution_count": 10,
     "metadata": {
      "tags": []
     },
     "output_type": "execute_result"
    }
   ],
   "source": [
    "data.drop([\"Birth_Month\", \"Birth_Year\", \"weekday\", \"Height\", \"Remarks\" ], axis = 1, inplace = True) \n",
    "data.head()"
   ]
  }
 ],
 "metadata": {
  "colab": {
   "name": "_project_final data cleaning .ipynb",
   "provenance": []
  },
  "kernelspec": {
   "display_name": "Python 3",
   "language": "python",
   "name": "python3"
  },
  "language_info": {
   "codemirror_mode": {
    "name": "ipython",
    "version": 3
   },
   "file_extension": ".py",
   "mimetype": "text/x-python",
   "name": "python",
   "nbconvert_exporter": "python",
   "pygments_lexer": "ipython3",
   "version": "3.7.4"
  }
 },
 "nbformat": 4,
 "nbformat_minor": 1
}
